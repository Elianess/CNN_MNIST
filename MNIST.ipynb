{
  "nbformat": 4,
  "nbformat_minor": 0,
  "metadata": {
    "colab": {
      "provenance": [],
      "gpuType": "T4"
    },
    "kernelspec": {
      "name": "python3",
      "display_name": "Python 3"
    },
    "language_info": {
      "name": "python"
    },
    "accelerator": "GPU"
  },
  "cells": [
    {
      "cell_type": "markdown",
      "source": [
        "### Задача:\n",
        "Подготовить в Google Colaboratory с использованием библиотек (Keras/Tensorflow, NumPy, Pandas, Matplotlib) пример обучения любой сверточной нейронной сети, на любом учебном датасете. Показать в примере навыки работы с выборками, провести аугментацию данных, визуализировать процесс обучения."
      ],
      "metadata": {
        "id": "zHDxsjYoz98c"
      }
    },
    {
      "cell_type": "markdown",
      "source": [
        "---"
      ],
      "metadata": {
        "id": "VkL-bXwp0P8v"
      }
    },
    {
      "cell_type": "markdown",
      "source": [
        "Сверточные нейронные сети используются в обработке изображений и видео, для классификации и распознования объектов. В этой работе бдует реализована `классификация рукописых цифр` из учебного датасета `MNIST`."
      ],
      "metadata": {
        "id": "AgwZ_1zd4Vec"
      }
    },
    {
      "cell_type": "code",
      "source": [
        "# Для начала импортируем необходимые библиотеки для работы с программой\n",
        "import numpy as np # для работы с данными\n",
        "import pandas as pd # для таблиц\n",
        "import matplotlib.pyplot as plt # для отрисовки графиков\n",
        "\n",
        "# from tensorflow.keras import utils # позволяет использоавть утилиты keras в tf\n",
        "from tensorflow.keras.datasets import mnist # набор данных mnist\n",
        "from sklearn.model_selection import train_test_split # для разделения данных\n",
        "from tensorflow.keras.models import Sequential # для последоватлеьного создания слоев\n",
        "from tensorflow.keras.layers import Dense, Conv2D, MaxPooling2D, Dropout, Flatten, BatchNormalization # для создания слоев\n",
        "from tensorflow.keras.preprocessing import image # для преобразования изобажений в тензоры\n",
        "from tensorflow.keras.preprocessing.image import ImageDataGenerator # для аугментации\n",
        "from tensorflow.keras.callbacks import ReduceLROnPlateau, ModelCheckpoint # обратные вызовы\n",
        "from tensorflow.keras import utils\n",
        "\n",
        "# для отображения графиков непосредственно в выводе ячейки\n",
        "%matplotlib inline"
      ],
      "metadata": {
        "id": "kqD1yPIt4l19"
      },
      "execution_count": null,
      "outputs": []
    },
    {
      "cell_type": "markdown",
      "source": [
        "# Предобработка и загрузка данных"
      ],
      "metadata": {
        "id": "dRd8pjVfIs-S"
      }
    },
    {
      "cell_type": "code",
      "source": [
        "# загружаем датасет и получаем обучающие и тетсовые данные\n",
        "(x_train, y_train), (X_test, Y_test) = mnist.load_data()"
      ],
      "metadata": {
        "colab": {
          "base_uri": "https://localhost:8080/"
        },
        "id": "Kz888hKuCd2z",
        "outputId": "36b99691-08fe-49ca-a00b-1028fc4396a1"
      },
      "execution_count": null,
      "outputs": [
        {
          "output_type": "stream",
          "name": "stdout",
          "text": [
            "Downloading data from https://storage.googleapis.com/tensorflow/tf-keras-datasets/mnist.npz\n",
            "11490434/11490434 [==============================] - 0s 0us/step\n"
          ]
        }
      ]
    },
    {
      "cell_type": "code",
      "source": [
        "x_train = np.expand_dims(x_train, axis=3) # добавляем измерение, которое обозначает, что у данных один канал (оттенки серого)\n",
        "y_train = utils.to_categorical(y_train) # преобразуемданные меток в формат one hot encoding\n",
        "X_test = np.expand_dims(X_test, axis=3)\n",
        "Y_test = utils.to_categorical(Y_test)"
      ],
      "metadata": {
        "id": "EEJzVDW8f_JZ"
      },
      "execution_count": null,
      "outputs": []
    },
    {
      "cell_type": "code",
      "source": [
        "# кол-во изображений \\ размер изоюражеиня \\ кол-во каналов\n",
        "# кол-во меток \\ кол-во классов\n",
        "print(f'X_train: {x_train.shape}\\nY_train: {y_train.shape}\\n')\n",
        "\n",
        "print(f'X_test: {X_test.shape}\\nY_test: {Y_test.shape}\\n')"
      ],
      "metadata": {
        "colab": {
          "base_uri": "https://localhost:8080/"
        },
        "id": "RVeP47W6FQo_",
        "outputId": "fc3ce143-fde7-46be-83ee-e49d5b117349"
      },
      "execution_count": null,
      "outputs": [
        {
          "output_type": "stream",
          "name": "stdout",
          "text": [
            "X_train: (60000, 28, 28, 1)\n",
            "Y_train: (60000, 10)\n",
            "\n",
            "X_test: (10000, 28, 28, 1)\n",
            "Y_test: (10000, 10)\n",
            "\n"
          ]
        }
      ]
    },
    {
      "cell_type": "code",
      "source": [
        "# чтобы данные не разделялись постоянно на новые выборки ставим сид\n",
        "random_seed = 0\n",
        "# создаем новую проверочную выборку. Из обучающих данных для проверочных отцепляем кусок в 10 процентов\n",
        "X_train, X_val, Y_train, Y_val = train_test_split(x_train, y_train, test_size = 0.1, random_state=random_seed)"
      ],
      "metadata": {
        "id": "mHYWnjYWcRB2"
      },
      "execution_count": null,
      "outputs": []
    },
    {
      "cell_type": "code",
      "source": [
        "print(f'X_train: {X_train.shape}\\nY_train: {Y_train.shape}\\n')\n",
        "\n",
        "print(f'X_val: {X_val.shape}\\nY_val: {Y_val.shape}\\n')\n",
        "\n",
        "print(f'X_test: {X_test.shape}\\nY_test: {Y_test.shape}\\n')"
      ],
      "metadata": {
        "colab": {
          "base_uri": "https://localhost:8080/"
        },
        "id": "nklHvnbNc3ep",
        "outputId": "abecb801-8b6d-42d6-d9dd-4c71cdf42731"
      },
      "execution_count": null,
      "outputs": [
        {
          "output_type": "stream",
          "name": "stdout",
          "text": [
            "X_train: (54000, 28, 28, 1)\n",
            "Y_train: (54000, 10)\n",
            "\n",
            "X_val: (6000, 28, 28, 1)\n",
            "Y_val: (6000, 10)\n",
            "\n",
            "X_test: (10000, 28, 28, 1)\n",
            "Y_test: (10000, 10)\n",
            "\n"
          ]
        }
      ]
    },
    {
      "cell_type": "markdown",
      "source": [
        "# Визуализируем данные"
      ],
      "metadata": {
        "id": "Cs3sZWK9QGwz"
      }
    },
    {
      "cell_type": "code",
      "source": [
        "plt.figure(figsize=(15, 2)) # размер полотна\n",
        "\n",
        "# выведем 10 примеров изображений из обучающей выборки\n",
        "for i in range(10):\n",
        "    # полотно 1 в высоту, 10 в ширину, после, каждая ячейка заполняется по циклу\n",
        "    plt.subplot(1, 10, i+1)\n",
        "    # в каждую ячейку закидываем новую картинку из обучающей выборки\n",
        "    plt.imshow(X_train[i], cmap='gray')\n",
        "    plt.axis('off')"
      ],
      "metadata": {
        "colab": {
          "base_uri": "https://localhost:8080/",
          "height": 135
        },
        "id": "H-gyAfsMKx9l",
        "outputId": "c5163884-366f-44cf-cb67-ba751a5bada8"
      },
      "execution_count": null,
      "outputs": [
        {
          "output_type": "display_data",
          "data": {
            "text/plain": [
              "<Figure size 1500x200 with 10 Axes>"
            ],
            "image/png": "[encoded data removed]"
          },
          "metadata": {}
        }
      ]
    },
    {
      "cell_type": "markdown",
      "source": [
        "# Создадим генератор, для расширения данных во время обучения"
      ],
      "metadata": {
        "id": "r1gXYNh4QHfi"
      }
    },
    {
      "cell_type": "code",
      "source": [
        "datagen = ImageDataGenerator(rotation_range = 10, # случайное вращение\n",
        "                             zoom_range = 0.2, # случайное масштабироавниее\n",
        "                             width_shift_range=0.2, # случайное вытяигвание в ширину\n",
        "                             height_shift_range=0.2) # в высоту"
      ],
      "metadata": {
        "id": "bl9S27KBSS4Q"
      },
      "execution_count": null,
      "outputs": []
    },
    {
      "cell_type": "markdown",
      "source": [
        "скопируем одну картинку из обучающего набора, чтобы посмотреть как работает генератор"
      ],
      "metadata": {
        "id": "lDwd7g7Z3Lbq"
      }
    },
    {
      "cell_type": "code",
      "source": [
        "data = X_train[1]"
      ],
      "metadata": {
        "id": "Z-fhKlFOUHBD"
      },
      "execution_count": null,
      "outputs": []
    },
    {
      "cell_type": "code",
      "source": [
        "print(f'shape data (X_train[1]): {data.shape}')"
      ],
      "metadata": {
        "colab": {
          "base_uri": "https://localhost:8080/"
        },
        "id": "7zHatgPkULgB",
        "outputId": "57fac480-d98e-4185-ce0b-94c06570c48d"
      },
      "execution_count": null,
      "outputs": [
        {
          "output_type": "stream",
          "name": "stdout",
          "text": [
            "shape data (X_train[1]): (28, 28, 1)\n"
          ]
        }
      ]
    },
    {
      "cell_type": "code",
      "source": [
        "# изображение до манипуляций генератора\n",
        "plt.imshow(data, cmap='gray')\n",
        "plt.show"
      ],
      "metadata": {
        "colab": {
          "base_uri": "https://localhost:8080/",
          "height": 448
        },
        "id": "Mp-wJB1DW9f4",
        "outputId": "a06441d1-3778-42c7-b5f3-3097f8e11528"
      },
      "execution_count": null,
      "outputs": [
        {
          "output_type": "execute_result",
          "data": {
            "text/plain": [
              "<function matplotlib.pyplot.show(close=None, block=None)>"
            ]
          },
          "metadata": {},
          "execution_count": 11
        },
        {
          "output_type": "display_data",
          "data": {
            "text/plain": [
              "<Figure size 640x480 with 1 Axes>"
            ],
            "image/png": "[encoded data removed]"
          },
          "metadata": {}
        }
      ]
    },
    {
      "cell_type": "code",
      "source": [
        "# добавим ось на первую позицию для отображения количества изображений\n",
        "data = np.expand_dims(data, axis=0)"
      ],
      "metadata": {
        "id": "HIrQIiFYUMRT"
      },
      "execution_count": null,
      "outputs": []
    },
    {
      "cell_type": "code",
      "source": [
        "print(f'shape data (X_train[1]): {data.shape}')"
      ],
      "metadata": {
        "colab": {
          "base_uri": "https://localhost:8080/"
        },
        "id": "B6WNFmBhUiAp",
        "outputId": "a5f5a3b5-5a4b-4d28-baba-23e8584ffeaa"
      },
      "execution_count": null,
      "outputs": [
        {
          "output_type": "stream",
          "name": "stdout",
          "text": [
            "shape data (X_train[1]): (1, 28, 28, 1)\n"
          ]
        }
      ]
    },
    {
      "cell_type": "code",
      "source": [
        "i = 0\n",
        "plt.figure(figsize=(20, 2))\n",
        "\n",
        "# batch_size - указывает количество изображений, которые будут созданы в каждом батче\n",
        "for batch in datagen.flow(data, batch_size = 1):\n",
        "    plt.subplot(1, 10, i+1)\n",
        "    plt.imshow(batch[0][:, :], cmap='gray')\n",
        "    plt.axis('off')\n",
        "\n",
        "    i += 1\n",
        "    if i == 10:\n",
        "        break"
      ],
      "metadata": {
        "colab": {
          "base_uri": "https://localhost:8080/",
          "height": 147
        },
        "id": "9K3W4v0uUi_R",
        "outputId": "163ece23-fade-42fe-c6f8-f65d226a4ddf"
      },
      "execution_count": null,
      "outputs": [
        {
          "output_type": "display_data",
          "data": {
            "text/plain": [
              "<Figure size 2000x200 with 10 Axes>"
            ],
            "image/png": "[encoded data removed]"
          },
          "metadata": {}
        }
      ]
    },
    {
      "cell_type": "markdown",
      "source": [
        "# Создаем нейронную сеть"
      ],
      "metadata": {
        "id": "U2zvSE_bXJQW"
      }
    },
    {
      "cell_type": "code",
      "source": [
        "model = Sequential() # для создания линейного набора слоев модели\n",
        "\n",
        "# Conv2D для добавления к модели 2D-сверточного слоя\n",
        "model.add(Conv2D(filters = 64, # кол-во фильтров\n",
        "                 kernel_size = (5, 5), # размер фильтров\n",
        "                 padding = 'Same', # Same заполнение для предотвращения потери информации по краям изображения\n",
        "                 activation = 'relu', # функция активации, позволяет проходить через слой только положительным значениям\n",
        "                 input_shape = (28, 28, 1))) # форма входных данных\n",
        "model.add(BatchNormalization()) # для нормализации входных данных\n",
        "model.add(MaxPooling2D(pool_size = (2, 2))) # для понижения разрешения путем взятия максимального значения в pool_size\n",
        "model.add(Dropout(0.25)) # исключаем кусок для предотвращения переобучения\n",
        "\n",
        "model.add(Conv2D(filters = 128,\n",
        "                 kernel_size = (5,5),\n",
        "                 padding = 'Same',\n",
        "                 activation ='relu'))\n",
        "model.add(BatchNormalization())\n",
        "model.add(MaxPooling2D(pool_size = (2, 2)))\n",
        "model.add(Dropout(0.25))\n",
        "\n",
        "model.add(BatchNormalization())\n",
        "model.add(MaxPooling2D(pool_size=(2,2), strides=(2,2)))\n",
        "model.add(Dropout(0.25))\n",
        "\n",
        "# полносвязная часть, отвечает за классификацию\n",
        "model.add(Flatten()) # для изменения данных слоя MaxPooling2D в одномерный массив\n",
        "# добовляем полносвязный слой\n",
        "model.add(Dense(256, # кол-во нейронов\n",
        "                activation = \"relu\"))\n",
        "model.add(Dropout(0.5))\n",
        "model.add(Dense(10, # 10 нейронов на выход, т.к. в наборе данных 10 классов\n",
        "                activation = \"softmax\")) # чтобы в выводе были вероятности принадлежности к определенному классу"
      ],
      "metadata": {
        "id": "LH8w5DqrVEmB"
      },
      "execution_count": null,
      "outputs": []
    },
    {
      "cell_type": "code",
      "source": [
        "# функция потерь - categorical_crossentropy т.к. несоклько классов\n",
        "# оптимизатор - для обновления весов\n",
        "# метрика - для указания показателей оценки, accuracy измеряет долю правильно классифицированных образцов\n",
        "model.compile(loss = 'categorical_crossentropy', optimizer = 'adam', metrics = ['accuracy'])\n",
        "print(model.summary())"
      ],
      "metadata": {
        "colab": {
          "base_uri": "https://localhost:8080/"
        },
        "id": "njtsltkVXr0a",
        "outputId": "896758a8-c0cb-4ae4-e944-6ee76400b570"
      },
      "execution_count": null,
      "outputs": [
        {
          "output_type": "stream",
          "name": "stdout",
          "text": [
            "Model: \"sequential\"\n",
            "_________________________________________________________________\n",
            " Layer (type)                Output Shape              Param #   \n",
            "=================================================================\n",
            " conv2d (Conv2D)             (None, 28, 28, 64)        1664      \n",
            "                                                                 \n",
            " batch_normalization (Batch  (None, 28, 28, 64)        256       \n",
            " Normalization)                                                  \n",
            "                                                                 \n",
            " max_pooling2d (MaxPooling2  (None, 14, 14, 64)        0         \n",
            " D)                                                              \n",
            "                                                                 \n",
            " dropout (Dropout)           (None, 14, 14, 64)        0         \n",
            "                                                                 \n",
            " conv2d_1 (Conv2D)           (None, 14, 14, 128)       204928    \n",
            "                                                                 \n",
            " batch_normalization_1 (Bat  (None, 14, 14, 128)       512       \n",
            " chNormalization)                                                \n",
            "                                                                 \n",
            " max_pooling2d_1 (MaxPoolin  (None, 7, 7, 128)         0         \n",
            " g2D)                                                            \n",
            "                                                                 \n",
            " dropout_1 (Dropout)         (None, 7, 7, 128)         0         \n",
            "                                                                 \n",
            " batch_normalization_2 (Bat  (None, 7, 7, 128)         512       \n",
            " chNormalization)                                                \n",
            "                                                                 \n",
            " max_pooling2d_2 (MaxPoolin  (None, 3, 3, 128)         0         \n",
            " g2D)                                                            \n",
            "                                                                 \n",
            " dropout_2 (Dropout)         (None, 3, 3, 128)         0         \n",
            "                                                                 \n",
            " flatten (Flatten)           (None, 1152)              0         \n",
            "                                                                 \n",
            " dense (Dense)               (None, 256)               295168    \n",
            "                                                                 \n",
            " dropout_3 (Dropout)         (None, 256)               0         \n",
            "                                                                 \n",
            " dense_1 (Dense)             (None, 10)                2570      \n",
            "                                                                 \n",
            "=================================================================\n",
            "Total params: 505610 (1.93 MB)\n",
            "Trainable params: 504970 (1.93 MB)\n",
            "Non-trainable params: 640 (2.50 KB)\n",
            "_________________________________________________________________\n",
            "None\n"
          ]
        }
      ]
    },
    {
      "cell_type": "code",
      "source": [
        "utils.plot_model(model, show_shapes = True, show_layer_names=True)"
      ],
      "metadata": {
        "colab": {
          "base_uri": "https://localhost:8080/",
          "height": 1000
        },
        "id": "4ka-SylBY6NJ",
        "outputId": "bda1d9c8-a256-44d3-f6dd-6f67193e9757"
      },
      "execution_count": null,
      "outputs": [
        {
          "output_type": "execute_result",
          "data": {
            "image/png": "[encoded data removed]",
            "text/plain": [
              "<IPython.core.display.Image object>"
            ]
          },
          "metadata": {},
          "execution_count": 17
        }
      ]
    },
    {
      "cell_type": "markdown",
      "source": [
        "# Обучаем нейронную сеть"
      ],
      "metadata": {
        "id": "ljEIsuk1aRCb"
      }
    },
    {
      "cell_type": "code",
      "source": [
        "# для сохранения данных модели\n",
        "checkpoint = ModelCheckpoint('mnist-cnn.h5',\n",
        "                             monitor = 'val_accuracy', # метрика, которую будем отслеживать\n",
        "                             save_best_only=True, # сохраняем только улучшения\n",
        "                             verbose = 1) # для отображения выполнения\n",
        "\n",
        "# для снижения скорости обучения\n",
        "learning_rate_reduction = ReduceLROnPlateau(monitor = 'val_accuracy',\n",
        "                                            patience = 2, # эпохи без улучшений\n",
        "                                            verbose = 1,\n",
        "                                            factor = 0.5, # уменьшение скорости обучения в 0,5 раз\n",
        "                                            min_lr = 0.00001) # минимальная скорость обучения"
      ],
      "metadata": {
        "id": "2KRKvEBwZOMI"
      },
      "execution_count": null,
      "outputs": []
    },
    {
      "cell_type": "code",
      "source": [
        "batch_size = 100\n",
        "epochs = 50"
      ],
      "metadata": {
        "id": "RQ2gUAWMbflU"
      },
      "execution_count": null,
      "outputs": []
    },
    {
      "cell_type": "code",
      "source": [
        "history = model.fit(datagen.flow(X_train, Y_train, batch_size = batch_size), # для создания пакетов дополненных изображений\n",
        "                    epochs = epochs,\n",
        "                    validation_data = (X_val, Y_val), # данных проверки, которые будут использоваться во время обучения\n",
        "                    steps_per_epoch = X_train.shape[0]//batch_size, # шаг за эпоху\n",
        "                    verbose = 1,\n",
        "                    callbacks = [checkpoint, learning_rate_reduction]) # обратные вызовы"
      ],
      "metadata": {
        "colab": {
          "base_uri": "https://localhost:8080/"
        },
        "id": "PIuY2VCFbkeM",
        "outputId": "0da33755-5620-4491-e23d-c2a352a58fd9"
      },
      "execution_count": null,
      "outputs": [
        {
          "output_type": "stream",
          "name": "stdout",
          "text": [
            "Epoch 1/50\n",
            "539/540 [============================>.] - ETA: 0s - loss: 0.7087 - accuracy: 0.7724\n",
            "Epoch 1: val_accuracy improved from -inf to 0.97333, saving model to mnist-cnn.h5\n",
            "540/540 [==============================] - 34s 38ms/step - loss: 0.7081 - accuracy: 0.7726 - val_loss: 0.0852 - val_accuracy: 0.9733 - lr: 0.0010\n",
            "Epoch 2/50\n",
            "  1/540 [..............................] - ETA: 43s - loss: 0.3206 - accuracy: 0.9100"
          ]
        },
        {
          "output_type": "stream",
          "name": "stderr",
          "text": [
            "/usr/local/lib/python3.10/dist-packages/keras/src/engine/training.py:3000: UserWarning: You are saving your model as an HDF5 file via `model.save()`. This file format is considered legacy. We recommend using instead the native Keras format, e.g. `model.save('my_model.keras')`.\n",
            "  saving_api.save_model(\n"
          ]
        },
        {
          "output_type": "stream",
          "name": "stdout",
          "text": [
            "539/540 [============================>.] - ETA: 0s - loss: 0.2489 - accuracy: 0.9257\n",
            "Epoch 2: val_accuracy improved from 0.97333 to 0.98650, saving model to mnist-cnn.h5\n",
            "540/540 [==============================] - 19s 36ms/step - loss: 0.2490 - accuracy: 0.9256 - val_loss: 0.0508 - val_accuracy: 0.9865 - lr: 0.0010\n",
            "Epoch 3/50\n",
            "539/540 [============================>.] - ETA: 0s - loss: 0.1881 - accuracy: 0.9443\n",
            "Epoch 3: val_accuracy did not improve from 0.98650\n",
            "540/540 [==============================] - 21s 38ms/step - loss: 0.1880 - accuracy: 0.9443 - val_loss: 0.0725 - val_accuracy: 0.9805 - lr: 0.0010\n",
            "Epoch 4/50\n",
            "539/540 [============================>.] - ETA: 0s - loss: 0.1615 - accuracy: 0.9517\n",
            "Epoch 4: val_accuracy improved from 0.98650 to 0.98783, saving model to mnist-cnn.h5\n",
            "540/540 [==============================] - 21s 38ms/step - loss: 0.1615 - accuracy: 0.9518 - val_loss: 0.0382 - val_accuracy: 0.9878 - lr: 0.0010\n",
            "Epoch 5/50\n",
            "540/540 [==============================] - ETA: 0s - loss: 0.1427 - accuracy: 0.9590\n",
            "Epoch 5: val_accuracy did not improve from 0.98783\n",
            "540/540 [==============================] - 20s 38ms/step - loss: 0.1427 - accuracy: 0.9590 - val_loss: 0.0445 - val_accuracy: 0.9875 - lr: 0.0010\n",
            "Epoch 6/50\n",
            "540/540 [==============================] - ETA: 0s - loss: 0.1317 - accuracy: 0.9621\n",
            "Epoch 6: val_accuracy improved from 0.98783 to 0.98817, saving model to mnist-cnn.h5\n",
            "540/540 [==============================] - 20s 37ms/step - loss: 0.1317 - accuracy: 0.9621 - val_loss: 0.0409 - val_accuracy: 0.9882 - lr: 0.0010\n",
            "Epoch 7/50\n",
            "540/540 [==============================] - ETA: 0s - loss: 0.1257 - accuracy: 0.9634\n",
            "Epoch 7: val_accuracy improved from 0.98817 to 0.98900, saving model to mnist-cnn.h5\n",
            "540/540 [==============================] - 20s 36ms/step - loss: 0.1257 - accuracy: 0.9634 - val_loss: 0.0376 - val_accuracy: 0.9890 - lr: 0.0010\n",
            "Epoch 8/50\n",
            "539/540 [============================>.] - ETA: 0s - loss: 0.1144 - accuracy: 0.9662\n",
            "Epoch 8: val_accuracy improved from 0.98900 to 0.99050, saving model to mnist-cnn.h5\n",
            "540/540 [==============================] - 21s 40ms/step - loss: 0.1144 - accuracy: 0.9662 - val_loss: 0.0365 - val_accuracy: 0.9905 - lr: 0.0010\n",
            "Epoch 9/50\n",
            "539/540 [============================>.] - ETA: 0s - loss: 0.1101 - accuracy: 0.9685\n",
            "Epoch 9: val_accuracy did not improve from 0.99050\n",
            "540/540 [==============================] - 20s 36ms/step - loss: 0.1101 - accuracy: 0.9685 - val_loss: 0.0341 - val_accuracy: 0.9895 - lr: 0.0010\n",
            "Epoch 10/50\n",
            "539/540 [============================>.] - ETA: 0s - loss: 0.1031 - accuracy: 0.9699\n",
            "Epoch 10: val_accuracy improved from 0.99050 to 0.99083, saving model to mnist-cnn.h5\n",
            "540/540 [==============================] - 20s 38ms/step - loss: 0.1030 - accuracy: 0.9699 - val_loss: 0.0323 - val_accuracy: 0.9908 - lr: 0.0010\n",
            "Epoch 11/50\n",
            "540/540 [==============================] - ETA: 0s - loss: 0.1017 - accuracy: 0.9717\n",
            "Epoch 11: val_accuracy did not improve from 0.99083\n",
            "540/540 [==============================] - 19s 36ms/step - loss: 0.1017 - accuracy: 0.9717 - val_loss: 0.0356 - val_accuracy: 0.9907 - lr: 0.0010\n",
            "Epoch 12/50\n",
            "539/540 [============================>.] - ETA: 0s - loss: 0.1006 - accuracy: 0.9717\n",
            "Epoch 12: val_accuracy did not improve from 0.99083\n",
            "\n",
            "Epoch 12: ReduceLROnPlateau reducing learning rate to 0.0005000000237487257.\n",
            "540/540 [==============================] - 20s 38ms/step - loss: 0.1007 - accuracy: 0.9716 - val_loss: 0.0357 - val_accuracy: 0.9902 - lr: 0.0010\n",
            "Epoch 13/50\n",
            "540/540 [==============================] - ETA: 0s - loss: 0.0843 - accuracy: 0.9753\n",
            "Epoch 13: val_accuracy improved from 0.99083 to 0.99333, saving model to mnist-cnn.h5\n",
            "540/540 [==============================] - 20s 38ms/step - loss: 0.0843 - accuracy: 0.9753 - val_loss: 0.0302 - val_accuracy: 0.9933 - lr: 5.0000e-04\n",
            "Epoch 14/50\n",
            "540/540 [==============================] - ETA: 0s - loss: 0.0777 - accuracy: 0.9776\n",
            "Epoch 14: val_accuracy improved from 0.99333 to 0.99400, saving model to mnist-cnn.h5\n",
            "540/540 [==============================] - 20s 36ms/step - loss: 0.0777 - accuracy: 0.9776 - val_loss: 0.0265 - val_accuracy: 0.9940 - lr: 5.0000e-04\n",
            "Epoch 15/50\n",
            "540/540 [==============================] - ETA: 0s - loss: 0.0759 - accuracy: 0.9781\n",
            "Epoch 15: val_accuracy did not improve from 0.99400\n",
            "540/540 [==============================] - 20s 38ms/step - loss: 0.0759 - accuracy: 0.9781 - val_loss: 0.0289 - val_accuracy: 0.9937 - lr: 5.0000e-04\n",
            "Epoch 16/50\n",
            "540/540 [==============================] - ETA: 0s - loss: 0.0756 - accuracy: 0.9784\n",
            "Epoch 16: val_accuracy improved from 0.99400 to 0.99467, saving model to mnist-cnn.h5\n",
            "540/540 [==============================] - 21s 38ms/step - loss: 0.0756 - accuracy: 0.9784 - val_loss: 0.0262 - val_accuracy: 0.9947 - lr: 5.0000e-04\n",
            "Epoch 17/50\n",
            "539/540 [============================>.] - ETA: 0s - loss: 0.0715 - accuracy: 0.9797\n",
            "Epoch 17: val_accuracy did not improve from 0.99467\n",
            "540/540 [==============================] - 20s 38ms/step - loss: 0.0715 - accuracy: 0.9797 - val_loss: 0.0278 - val_accuracy: 0.9940 - lr: 5.0000e-04\n",
            "Epoch 18/50\n",
            "540/540 [==============================] - ETA: 0s - loss: 0.0706 - accuracy: 0.9790\n",
            "Epoch 18: val_accuracy did not improve from 0.99467\n",
            "\n",
            "Epoch 18: ReduceLROnPlateau reducing learning rate to 0.0002500000118743628.\n",
            "540/540 [==============================] - 20s 38ms/step - loss: 0.0706 - accuracy: 0.9790 - val_loss: 0.0257 - val_accuracy: 0.9945 - lr: 5.0000e-04\n",
            "Epoch 19/50\n",
            "539/540 [============================>.] - ETA: 0s - loss: 0.0629 - accuracy: 0.9821\n",
            "Epoch 19: val_accuracy improved from 0.99467 to 0.99483, saving model to mnist-cnn.h5\n",
            "540/540 [==============================] - 22s 40ms/step - loss: 0.0629 - accuracy: 0.9820 - val_loss: 0.0247 - val_accuracy: 0.9948 - lr: 2.5000e-04\n",
            "Epoch 20/50\n",
            "540/540 [==============================] - ETA: 0s - loss: 0.0600 - accuracy: 0.9829\n",
            "Epoch 20: val_accuracy did not improve from 0.99483\n",
            "540/540 [==============================] - 20s 36ms/step - loss: 0.0600 - accuracy: 0.9829 - val_loss: 0.0263 - val_accuracy: 0.9933 - lr: 2.5000e-04\n",
            "Epoch 21/50\n",
            "540/540 [==============================] - ETA: 0s - loss: 0.0615 - accuracy: 0.9827\n",
            "Epoch 21: val_accuracy did not improve from 0.99483\n",
            "\n",
            "Epoch 21: ReduceLROnPlateau reducing learning rate to 0.0001250000059371814.\n",
            "540/540 [==============================] - 20s 38ms/step - loss: 0.0615 - accuracy: 0.9827 - val_loss: 0.0232 - val_accuracy: 0.9943 - lr: 2.5000e-04\n",
            "Epoch 22/50\n",
            "539/540 [============================>.] - ETA: 0s - loss: 0.0578 - accuracy: 0.9835\n",
            "Epoch 22: val_accuracy improved from 0.99483 to 0.99550, saving model to mnist-cnn.h5\n",
            "540/540 [==============================] - 20s 36ms/step - loss: 0.0579 - accuracy: 0.9835 - val_loss: 0.0229 - val_accuracy: 0.9955 - lr: 1.2500e-04\n",
            "Epoch 23/50\n",
            "540/540 [==============================] - ETA: 0s - loss: 0.0583 - accuracy: 0.9831\n",
            "Epoch 23: val_accuracy did not improve from 0.99550\n",
            "540/540 [==============================] - 20s 37ms/step - loss: 0.0583 - accuracy: 0.9831 - val_loss: 0.0221 - val_accuracy: 0.9947 - lr: 1.2500e-04\n",
            "Epoch 24/50\n",
            "540/540 [==============================] - ETA: 0s - loss: 0.0547 - accuracy: 0.9847\n",
            "Epoch 24: val_accuracy did not improve from 0.99550\n",
            "\n",
            "Epoch 24: ReduceLROnPlateau reducing learning rate to 6.25000029685907e-05.\n",
            "540/540 [==============================] - 20s 37ms/step - loss: 0.0547 - accuracy: 0.9847 - val_loss: 0.0220 - val_accuracy: 0.9953 - lr: 1.2500e-04\n",
            "Epoch 25/50\n",
            "540/540 [==============================] - ETA: 0s - loss: 0.0547 - accuracy: 0.9839\n",
            "Epoch 25: val_accuracy did not improve from 0.99550\n",
            "540/540 [==============================] - 20s 36ms/step - loss: 0.0547 - accuracy: 0.9839 - val_loss: 0.0217 - val_accuracy: 0.9952 - lr: 6.2500e-05\n",
            "Epoch 26/50\n",
            "540/540 [==============================] - ETA: 0s - loss: 0.0531 - accuracy: 0.9849\n",
            "Epoch 26: val_accuracy did not improve from 0.99550\n",
            "\n",
            "Epoch 26: ReduceLROnPlateau reducing learning rate to 3.125000148429535e-05.\n",
            "540/540 [==============================] - 21s 38ms/step - loss: 0.0531 - accuracy: 0.9849 - val_loss: 0.0217 - val_accuracy: 0.9950 - lr: 6.2500e-05\n",
            "Epoch 27/50\n",
            "540/540 [==============================] - ETA: 0s - loss: 0.0495 - accuracy: 0.9859\n",
            "Epoch 27: val_accuracy did not improve from 0.99550\n",
            "540/540 [==============================] - 20s 36ms/step - loss: 0.0495 - accuracy: 0.9859 - val_loss: 0.0222 - val_accuracy: 0.9950 - lr: 3.1250e-05\n",
            "Epoch 28/50\n",
            "539/540 [============================>.] - ETA: 0s - loss: 0.0495 - accuracy: 0.9851\n",
            "Epoch 28: val_accuracy did not improve from 0.99550\n",
            "\n",
            "Epoch 28: ReduceLROnPlateau reducing learning rate to 1.5625000742147677e-05.\n",
            "540/540 [==============================] - 20s 37ms/step - loss: 0.0495 - accuracy: 0.9851 - val_loss: 0.0218 - val_accuracy: 0.9952 - lr: 3.1250e-05\n",
            "Epoch 29/50\n",
            "540/540 [==============================] - ETA: 0s - loss: 0.0525 - accuracy: 0.9846\n",
            "Epoch 29: val_accuracy did not improve from 0.99550\n",
            "540/540 [==============================] - 19s 36ms/step - loss: 0.0525 - accuracy: 0.9846 - val_loss: 0.0218 - val_accuracy: 0.9953 - lr: 1.5625e-05\n",
            "Epoch 30/50\n",
            "540/540 [==============================] - ETA: 0s - loss: 0.0523 - accuracy: 0.9845\n",
            "Epoch 30: val_accuracy did not improve from 0.99550\n",
            "\n",
            "Epoch 30: ReduceLROnPlateau reducing learning rate to 1e-05.\n",
            "540/540 [==============================] - 20s 37ms/step - loss: 0.0523 - accuracy: 0.9845 - val_loss: 0.0218 - val_accuracy: 0.9953 - lr: 1.5625e-05\n",
            "Epoch 31/50\n",
            "539/540 [============================>.] - ETA: 0s - loss: 0.0524 - accuracy: 0.9848\n",
            "Epoch 31: val_accuracy did not improve from 0.99550\n",
            "540/540 [==============================] - 21s 39ms/step - loss: 0.0524 - accuracy: 0.9848 - val_loss: 0.0219 - val_accuracy: 0.9952 - lr: 1.0000e-05\n",
            "Epoch 32/50\n",
            "540/540 [==============================] - ETA: 0s - loss: 0.0508 - accuracy: 0.9849\n",
            "Epoch 32: val_accuracy did not improve from 0.99550\n",
            "540/540 [==============================] - 19s 36ms/step - loss: 0.0508 - accuracy: 0.9849 - val_loss: 0.0219 - val_accuracy: 0.9952 - lr: 1.0000e-05\n",
            "Epoch 33/50\n",
            "539/540 [============================>.] - ETA: 0s - loss: 0.0496 - accuracy: 0.9858\n",
            "Epoch 33: val_accuracy did not improve from 0.99550\n",
            "540/540 [==============================] - 21s 38ms/step - loss: 0.0496 - accuracy: 0.9858 - val_loss: 0.0218 - val_accuracy: 0.9952 - lr: 1.0000e-05\n",
            "Epoch 34/50\n",
            "539/540 [============================>.] - ETA: 0s - loss: 0.0505 - accuracy: 0.9855\n",
            "Epoch 34: val_accuracy did not improve from 0.99550\n",
            "540/540 [==============================] - 19s 36ms/step - loss: 0.0505 - accuracy: 0.9855 - val_loss: 0.0218 - val_accuracy: 0.9952 - lr: 1.0000e-05\n",
            "Epoch 35/50\n",
            "540/540 [==============================] - ETA: 0s - loss: 0.0503 - accuracy: 0.9857\n",
            "Epoch 35: val_accuracy did not improve from 0.99550\n",
            "540/540 [==============================] - 21s 39ms/step - loss: 0.0503 - accuracy: 0.9857 - val_loss: 0.0218 - val_accuracy: 0.9950 - lr: 1.0000e-05\n",
            "Epoch 36/50\n",
            "539/540 [============================>.] - ETA: 0s - loss: 0.0506 - accuracy: 0.9853\n",
            "Epoch 36: val_accuracy did not improve from 0.99550\n",
            "540/540 [==============================] - 21s 40ms/step - loss: 0.0506 - accuracy: 0.9853 - val_loss: 0.0217 - val_accuracy: 0.9950 - lr: 1.0000e-05\n",
            "Epoch 37/50\n",
            "540/540 [==============================] - ETA: 0s - loss: 0.0503 - accuracy: 0.9857\n",
            "Epoch 37: val_accuracy did not improve from 0.99550\n",
            "540/540 [==============================] - 20s 36ms/step - loss: 0.0503 - accuracy: 0.9857 - val_loss: 0.0218 - val_accuracy: 0.9950 - lr: 1.0000e-05\n",
            "Epoch 38/50\n",
            "539/540 [============================>.] - ETA: 0s - loss: 0.0498 - accuracy: 0.9856\n",
            "Epoch 38: val_accuracy did not improve from 0.99550\n",
            "540/540 [==============================] - 21s 38ms/step - loss: 0.0498 - accuracy: 0.9856 - val_loss: 0.0216 - val_accuracy: 0.9952 - lr: 1.0000e-05\n",
            "Epoch 39/50\n",
            "540/540 [==============================] - ETA: 0s - loss: 0.0493 - accuracy: 0.9853\n",
            "Epoch 39: val_accuracy did not improve from 0.99550\n",
            "540/540 [==============================] - 20s 38ms/step - loss: 0.0493 - accuracy: 0.9853 - val_loss: 0.0216 - val_accuracy: 0.9952 - lr: 1.0000e-05\n",
            "Epoch 40/50\n",
            "540/540 [==============================] - ETA: 0s - loss: 0.0506 - accuracy: 0.9858\n",
            "Epoch 40: val_accuracy did not improve from 0.99550\n",
            "540/540 [==============================] - 20s 36ms/step - loss: 0.0506 - accuracy: 0.9858 - val_loss: 0.0215 - val_accuracy: 0.9952 - lr: 1.0000e-05\n",
            "Epoch 41/50\n",
            "540/540 [==============================] - ETA: 0s - loss: 0.0494 - accuracy: 0.9857\n",
            "Epoch 41: val_accuracy did not improve from 0.99550\n",
            "540/540 [==============================] - 21s 40ms/step - loss: 0.0494 - accuracy: 0.9857 - val_loss: 0.0217 - val_accuracy: 0.9950 - lr: 1.0000e-05\n",
            "Epoch 42/50\n",
            "540/540 [==============================] - ETA: 0s - loss: 0.0511 - accuracy: 0.9848\n",
            "Epoch 42: val_accuracy did not improve from 0.99550\n",
            "540/540 [==============================] - 20s 36ms/step - loss: 0.0511 - accuracy: 0.9848 - val_loss: 0.0216 - val_accuracy: 0.9950 - lr: 1.0000e-05\n",
            "Epoch 43/50\n",
            "540/540 [==============================] - ETA: 0s - loss: 0.0486 - accuracy: 0.9857\n",
            "Epoch 43: val_accuracy did not improve from 0.99550\n",
            "540/540 [==============================] - 21s 39ms/step - loss: 0.0486 - accuracy: 0.9857 - val_loss: 0.0217 - val_accuracy: 0.9952 - lr: 1.0000e-05\n",
            "Epoch 44/50\n",
            "539/540 [============================>.] - ETA: 0s - loss: 0.0497 - accuracy: 0.9852\n",
            "Epoch 44: val_accuracy did not improve from 0.99550\n",
            "540/540 [==============================] - 20s 37ms/step - loss: 0.0497 - accuracy: 0.9852 - val_loss: 0.0216 - val_accuracy: 0.9952 - lr: 1.0000e-05\n",
            "Epoch 45/50\n",
            "540/540 [==============================] - ETA: 0s - loss: 0.0505 - accuracy: 0.9856\n",
            "Epoch 45: val_accuracy did not improve from 0.99550\n",
            "540/540 [==============================] - 21s 38ms/step - loss: 0.0505 - accuracy: 0.9856 - val_loss: 0.0216 - val_accuracy: 0.9953 - lr: 1.0000e-05\n",
            "Epoch 46/50\n",
            "540/540 [==============================] - ETA: 0s - loss: 0.0463 - accuracy: 0.9862\n",
            "Epoch 46: val_accuracy did not improve from 0.99550\n",
            "540/540 [==============================] - 21s 38ms/step - loss: 0.0463 - accuracy: 0.9862 - val_loss: 0.0218 - val_accuracy: 0.9952 - lr: 1.0000e-05\n",
            "Epoch 47/50\n",
            "539/540 [============================>.] - ETA: 0s - loss: 0.0509 - accuracy: 0.9861\n",
            "Epoch 47: val_accuracy did not improve from 0.99550\n",
            "540/540 [==============================] - 21s 38ms/step - loss: 0.0508 - accuracy: 0.9861 - val_loss: 0.0217 - val_accuracy: 0.9953 - lr: 1.0000e-05\n",
            "Epoch 48/50\n",
            "540/540 [==============================] - ETA: 0s - loss: 0.0498 - accuracy: 0.9854\n",
            "Epoch 48: val_accuracy did not improve from 0.99550\n",
            "540/540 [==============================] - 21s 38ms/step - loss: 0.0498 - accuracy: 0.9854 - val_loss: 0.0217 - val_accuracy: 0.9953 - lr: 1.0000e-05\n",
            "Epoch 49/50\n",
            "540/540 [==============================] - ETA: 0s - loss: 0.0486 - accuracy: 0.9860\n",
            "Epoch 49: val_accuracy did not improve from 0.99550\n",
            "540/540 [==============================] - 20s 37ms/step - loss: 0.0486 - accuracy: 0.9860 - val_loss: 0.0217 - val_accuracy: 0.9955 - lr: 1.0000e-05\n",
            "Epoch 50/50\n",
            "539/540 [============================>.] - ETA: 0s - loss: 0.0487 - accuracy: 0.9864\n",
            "Epoch 50: val_accuracy did not improve from 0.99550\n",
            "540/540 [==============================] - 21s 38ms/step - loss: 0.0487 - accuracy: 0.9864 - val_loss: 0.0218 - val_accuracy: 0.9950 - lr: 1.0000e-05\n"
          ]
        }
      ]
    },
    {
      "cell_type": "code",
      "source": [
        "# загружаем информацию об обученой модели\n",
        "model.load_weights('mnist-cnn.h5')"
      ],
      "metadata": {
        "id": "dKwxBkdEfdFR"
      },
      "execution_count": null,
      "outputs": []
    },
    {
      "cell_type": "code",
      "source": [
        "history.history.keys()"
      ],
      "metadata": {
        "colab": {
          "base_uri": "https://localhost:8080/"
        },
        "id": "D5aMdVnbqFUS",
        "outputId": "3a0124cb-51cf-47fe-9252-d3b32e2b0f1b"
      },
      "execution_count": null,
      "outputs": [
        {
          "output_type": "execute_result",
          "data": {
            "text/plain": [
              "dict_keys(['loss', 'accuracy', 'val_loss', 'val_accuracy', 'lr'])"
            ]
          },
          "metadata": {},
          "execution_count": 22
        }
      ]
    },
    {
      "cell_type": "code",
      "source": [
        "# выводим инфоррмацию о модели\n",
        "history_df = pd.DataFrame()\n",
        "\n",
        "for key in history.history.keys():\n",
        "    history_df[key] = history.history[key]\n",
        "history_df"
      ],
      "metadata": {
        "colab": {
          "base_uri": "https://localhost:8080/",
          "height": 1000
        },
        "id": "LtYmbq_YrCp5",
        "outputId": "965c35b9-b417-40c2-a681-5a579131c0ea"
      },
      "execution_count": null,
      "outputs": [
        {
          "output_type": "execute_result",
          "data": {
            "text/plain": [
              "        loss  accuracy  val_loss  val_accuracy        lr\n",
              "0   0.708115  0.772556  0.085201      0.973333  0.001000\n",
              "1   0.248971  0.925630  0.050791      0.986500  0.001000\n",
              "2   0.187998  0.944315  0.072514      0.980500  0.001000\n",
              "3   0.161513  0.951759  0.038209      0.987833  0.001000\n",
              "4   0.142747  0.958981  0.044495      0.987500  0.001000\n",
              "5   0.131721  0.962093  0.040944      0.988167  0.001000\n",
              "6   0.125712  0.963444  0.037558      0.989000  0.001000\n",
              "7   0.114387  0.966241  0.036547      0.990500  0.001000\n",
              "8   0.110121  0.968463  0.034056      0.989500  0.001000\n",
              "9   0.103012  0.969926  0.032296      0.990833  0.001000\n",
              "10  0.101730  0.971667  0.035551      0.990667  0.001000\n",
              "11  0.100744  0.971630  0.035702      0.990167  0.001000\n",
              "12  0.084307  0.975296  0.030221      0.993333  0.000500\n",
              "13  0.077714  0.977611  0.026478      0.994000  0.000500\n",
              "14  0.075854  0.978148  0.028924      0.993667  0.000500\n",
              "15  0.075621  0.978444  0.026220      0.994667  0.000500\n",
              "16  0.071467  0.979722  0.027847      0.994000  0.000500\n",
              "17  0.070572  0.979037  0.025738      0.994500  0.000500\n",
              "18  0.062937  0.982037  0.024656      0.994833  0.000250\n",
              "19  0.060013  0.982926  0.026283      0.993333  0.000250\n",
              "20  0.061516  0.982667  0.023151      0.994333  0.000250\n",
              "21  0.057888  0.983500  0.022860      0.995500  0.000125\n",
              "22  0.058291  0.983074  0.022147      0.994667  0.000125\n",
              "23  0.054658  0.984667  0.021999      0.995333  0.000125\n",
              "24  0.054675  0.983926  0.021728      0.995167  0.000063\n",
              "25  0.053072  0.984852  0.021730      0.995000  0.000063\n",
              "26  0.049480  0.985944  0.022238      0.995000  0.000031\n",
              "27  0.049532  0.985056  0.021809      0.995167  0.000031\n",
              "28  0.052465  0.984556  0.021778      0.995333  0.000016\n",
              "29  0.052325  0.984481  0.021759      0.995333  0.000016\n",
              "30  0.052350  0.984815  0.021897      0.995167  0.000010\n",
              "31  0.050792  0.984870  0.021879      0.995167  0.000010\n",
              "32  0.049585  0.985815  0.021777      0.995167  0.000010\n",
              "33  0.050547  0.985519  0.021778      0.995167  0.000010\n",
              "34  0.050310  0.985722  0.021828      0.995000  0.000010\n",
              "35  0.050565  0.985296  0.021721      0.995000  0.000010\n",
              "36  0.050274  0.985704  0.021804      0.995000  0.000010\n",
              "37  0.049797  0.985630  0.021631      0.995167  0.000010\n",
              "38  0.049258  0.985259  0.021576      0.995167  0.000010\n",
              "39  0.050622  0.985796  0.021529      0.995167  0.000010\n",
              "40  0.049358  0.985685  0.021741      0.995000  0.000010\n",
              "41  0.051136  0.984759  0.021619      0.995000  0.000010\n",
              "42  0.048619  0.985667  0.021690      0.995167  0.000010\n",
              "43  0.049653  0.985241  0.021591      0.995167  0.000010\n",
              "44  0.050544  0.985556  0.021617      0.995333  0.000010\n",
              "45  0.046338  0.986241  0.021842      0.995167  0.000010\n",
              "46  0.050798  0.986130  0.021693      0.995333  0.000010\n",
              "47  0.049820  0.985370  0.021716      0.995333  0.000010\n",
              "48  0.048646  0.985963  0.021716      0.995500  0.000010\n",
              "49  0.048687  0.986389  0.021755      0.995000  0.000010"
            ],
            "text/html": [
              "\n",
              "  <div id=\"df-a343ea16-b6fe-47e8-8c8b-0e69ab25f062\" class=\"colab-df-container\">\n",
              "    <div>\n",
              "<style scoped>\n",
              "    .dataframe tbody tr th:only-of-type {\n",
              "        vertical-align: middle;\n",
              "    }\n",
              "\n",
              "    .dataframe tbody tr th {\n",
              "        vertical-align: top;\n",
              "    }\n",
              "\n",
              "    .dataframe thead th {\n",
              "        text-align: right;\n",
              "    }\n",
              "</style>\n",
              "<table border=\"1\" class=\"dataframe\">\n",
              "  <thead>\n",
              "    <tr style=\"text-align: right;\">\n",
              "      <th></th>\n",
              "      <th>loss</th>\n",
              "      <th>accuracy</th>\n",
              "      <th>val_loss</th>\n",
              "      <th>val_accuracy</th>\n",
              "      <th>lr</th>\n",
              "    </tr>\n",
              "  </thead>\n",
              "  <tbody>\n",
              "    <tr>\n",
              "      <th>0</th>\n",
              "      <td>0.708115</td>\n",
              "      <td>0.772556</td>\n",
              "      <td>0.085201</td>\n",
              "      <td>0.973333</td>\n",
              "      <td>0.001000</td>\n",
              "    </tr>\n",
              "    <tr>\n",
              "      <th>1</th>\n",
              "      <td>0.248971</td>\n",
              "      <td>0.925630</td>\n",
              "      <td>0.050791</td>\n",
              "      <td>0.986500</td>\n",
              "      <td>0.001000</td>\n",
              "    </tr>\n",
              "    <tr>\n",
              "      <th>2</th>\n",
              "      <td>0.187998</td>\n",
              "      <td>0.944315</td>\n",
              "      <td>0.072514</td>\n",
              "      <td>0.980500</td>\n",
              "      <td>0.001000</td>\n",
              "    </tr>\n",
              "    <tr>\n",
              "      <th>3</th>\n",
              "      <td>0.161513</td>\n",
              "      <td>0.951759</td>\n",
              "      <td>0.038209</td>\n",
              "      <td>0.987833</td>\n",
              "      <td>0.001000</td>\n",
              "    </tr>\n",
              "    <tr>\n",
              "      <th>4</th>\n",
              "      <td>0.142747</td>\n",
              "      <td>0.958981</td>\n",
              "      <td>0.044495</td>\n",
              "      <td>0.987500</td>\n",
              "      <td>0.001000</td>\n",
              "    </tr>\n",
              "    <tr>\n",
              "      <th>5</th>\n",
              "      <td>0.131721</td>\n",
              "      <td>0.962093</td>\n",
              "      <td>0.040944</td>\n",
              "      <td>0.988167</td>\n",
              "      <td>0.001000</td>\n",
              "    </tr>\n",
              "    <tr>\n",
              "      <th>6</th>\n",
              "      <td>0.125712</td>\n",
              "      <td>0.963444</td>\n",
              "      <td>0.037558</td>\n",
              "      <td>0.989000</td>\n",
              "      <td>0.001000</td>\n",
              "    </tr>\n",
              "    <tr>\n",
              "      <th>7</th>\n",
              "      <td>0.114387</td>\n",
              "      <td>0.966241</td>\n",
              "      <td>0.036547</td>\n",
              "      <td>0.990500</td>\n",
              "      <td>0.001000</td>\n",
              "    </tr>\n",
              "    <tr>\n",
              "      <th>8</th>\n",
              "      <td>0.110121</td>\n",
              "      <td>0.968463</td>\n",
              "      <td>0.034056</td>\n",
              "      <td>0.989500</td>\n",
              "      <td>0.001000</td>\n",
              "    </tr>\n",
              "    <tr>\n",
              "      <th>9</th>\n",
              "      <td>0.103012</td>\n",
              "      <td>0.969926</td>\n",
              "      <td>0.032296</td>\n",
              "      <td>0.990833</td>\n",
              "      <td>0.001000</td>\n",
              "    </tr>\n",
              "    <tr>\n",
              "      <th>10</th>\n",
              "      <td>0.101730</td>\n",
              "      <td>0.971667</td>\n",
              "      <td>0.035551</td>\n",
              "      <td>0.990667</td>\n",
              "      <td>0.001000</td>\n",
              "    </tr>\n",
              "    <tr>\n",
              "      <th>11</th>\n",
              "      <td>0.100744</td>\n",
              "      <td>0.971630</td>\n",
              "      <td>0.035702</td>\n",
              "      <td>0.990167</td>\n",
              "      <td>0.001000</td>\n",
              "    </tr>\n",
              "    <tr>\n",
              "      <th>12</th>\n",
              "      <td>0.084307</td>\n",
              "      <td>0.975296</td>\n",
              "      <td>0.030221</td>\n",
              "      <td>0.993333</td>\n",
              "      <td>0.000500</td>\n",
              "    </tr>\n",
              "    <tr>\n",
              "      <th>13</th>\n",
              "      <td>0.077714</td>\n",
              "      <td>0.977611</td>\n",
              "      <td>0.026478</td>\n",
              "      <td>0.994000</td>\n",
              "      <td>0.000500</td>\n",
              "    </tr>\n",
              "    <tr>\n",
              "      <th>14</th>\n",
              "      <td>0.075854</td>\n",
              "      <td>0.978148</td>\n",
              "      <td>0.028924</td>\n",
              "      <td>0.993667</td>\n",
              "      <td>0.000500</td>\n",
              "    </tr>\n",
              "    <tr>\n",
              "      <th>15</th>\n",
              "      <td>0.075621</td>\n",
              "      <td>0.978444</td>\n",
              "      <td>0.026220</td>\n",
              "      <td>0.994667</td>\n",
              "      <td>0.000500</td>\n",
              "    </tr>\n",
              "    <tr>\n",
              "      <th>16</th>\n",
              "      <td>0.071467</td>\n",
              "      <td>0.979722</td>\n",
              "      <td>0.027847</td>\n",
              "      <td>0.994000</td>\n",
              "      <td>0.000500</td>\n",
              "    </tr>\n",
              "    <tr>\n",
              "      <th>17</th>\n",
              "      <td>0.070572</td>\n",
              "      <td>0.979037</td>\n",
              "      <td>0.025738</td>\n",
              "      <td>0.994500</td>\n",
              "      <td>0.000500</td>\n",
              "    </tr>\n",
              "    <tr>\n",
              "      <th>18</th>\n",
              "      <td>0.062937</td>\n",
              "      <td>0.982037</td>\n",
              "      <td>0.024656</td>\n",
              "      <td>0.994833</td>\n",
              "      <td>0.000250</td>\n",
              "    </tr>\n",
              "    <tr>\n",
              "      <th>19</th>\n",
              "      <td>0.060013</td>\n",
              "      <td>0.982926</td>\n",
              "      <td>0.026283</td>\n",
              "      <td>0.993333</td>\n",
              "      <td>0.000250</td>\n",
              "    </tr>\n",
              "    <tr>\n",
              "      <th>20</th>\n",
              "      <td>0.061516</td>\n",
              "      <td>0.982667</td>\n",
              "      <td>0.023151</td>\n",
              "      <td>0.994333</td>\n",
              "      <td>0.000250</td>\n",
              "    </tr>\n",
              "    <tr>\n",
              "      <th>21</th>\n",
              "      <td>0.057888</td>\n",
              "      <td>0.983500</td>\n",
              "      <td>0.022860</td>\n",
              "      <td>0.995500</td>\n",
              "      <td>0.000125</td>\n",
              "    </tr>\n",
              "    <tr>\n",
              "      <th>22</th>\n",
              "      <td>0.058291</td>\n",
              "      <td>0.983074</td>\n",
              "      <td>0.022147</td>\n",
              "      <td>0.994667</td>\n",
              "      <td>0.000125</td>\n",
              "    </tr>\n",
              "    <tr>\n",
              "      <th>23</th>\n",
              "      <td>0.054658</td>\n",
              "      <td>0.984667</td>\n",
              "      <td>0.021999</td>\n",
              "      <td>0.995333</td>\n",
              "      <td>0.000125</td>\n",
              "    </tr>\n",
              "    <tr>\n",
              "      <th>24</th>\n",
              "      <td>0.054675</td>\n",
              "      <td>0.983926</td>\n",
              "      <td>0.021728</td>\n",
              "      <td>0.995167</td>\n",
              "      <td>0.000063</td>\n",
              "    </tr>\n",
              "    <tr>\n",
              "      <th>25</th>\n",
              "      <td>0.053072</td>\n",
              "      <td>0.984852</td>\n",
              "      <td>0.021730</td>\n",
              "      <td>0.995000</td>\n",
              "      <td>0.000063</td>\n",
              "    </tr>\n",
              "    <tr>\n",
              "      <th>26</th>\n",
              "      <td>0.049480</td>\n",
              "      <td>0.985944</td>\n",
              "      <td>0.022238</td>\n",
              "      <td>0.995000</td>\n",
              "      <td>0.000031</td>\n",
              "    </tr>\n",
              "    <tr>\n",
              "      <th>27</th>\n",
              "      <td>0.049532</td>\n",
              "      <td>0.985056</td>\n",
              "      <td>0.021809</td>\n",
              "      <td>0.995167</td>\n",
              "      <td>0.000031</td>\n",
              "    </tr>\n",
              "    <tr>\n",
              "      <th>28</th>\n",
              "      <td>0.052465</td>\n",
              "      <td>0.984556</td>\n",
              "      <td>0.021778</td>\n",
              "      <td>0.995333</td>\n",
              "      <td>0.000016</td>\n",
              "    </tr>\n",
              "    <tr>\n",
              "      <th>29</th>\n",
              "      <td>0.052325</td>\n",
              "      <td>0.984481</td>\n",
              "      <td>0.021759</td>\n",
              "      <td>0.995333</td>\n",
              "      <td>0.000016</td>\n",
              "    </tr>\n",
              "    <tr>\n",
              "      <th>30</th>\n",
              "      <td>0.052350</td>\n",
              "      <td>0.984815</td>\n",
              "      <td>0.021897</td>\n",
              "      <td>0.995167</td>\n",
              "      <td>0.000010</td>\n",
              "    </tr>\n",
              "    <tr>\n",
              "      <th>31</th>\n",
              "      <td>0.050792</td>\n",
              "      <td>0.984870</td>\n",
              "      <td>0.021879</td>\n",
              "      <td>0.995167</td>\n",
              "      <td>0.000010</td>\n",
              "    </tr>\n",
              "    <tr>\n",
              "      <th>32</th>\n",
              "      <td>0.049585</td>\n",
              "      <td>0.985815</td>\n",
              "      <td>0.021777</td>\n",
              "      <td>0.995167</td>\n",
              "      <td>0.000010</td>\n",
              "    </tr>\n",
              "    <tr>\n",
              "      <th>33</th>\n",
              "      <td>0.050547</td>\n",
              "      <td>0.985519</td>\n",
              "      <td>0.021778</td>\n",
              "      <td>0.995167</td>\n",
              "      <td>0.000010</td>\n",
              "    </tr>\n",
              "    <tr>\n",
              "      <th>34</th>\n",
              "      <td>0.050310</td>\n",
              "      <td>0.985722</td>\n",
              "      <td>0.021828</td>\n",
              "      <td>0.995000</td>\n",
              "      <td>0.000010</td>\n",
              "    </tr>\n",
              "    <tr>\n",
              "      <th>35</th>\n",
              "      <td>0.050565</td>\n",
              "      <td>0.985296</td>\n",
              "      <td>0.021721</td>\n",
              "      <td>0.995000</td>\n",
              "      <td>0.000010</td>\n",
              "    </tr>\n",
              "    <tr>\n",
              "      <th>36</th>\n",
              "      <td>0.050274</td>\n",
              "      <td>0.985704</td>\n",
              "      <td>0.021804</td>\n",
              "      <td>0.995000</td>\n",
              "      <td>0.000010</td>\n",
              "    </tr>\n",
              "    <tr>\n",
              "      <th>37</th>\n",
              "      <td>0.049797</td>\n",
              "      <td>0.985630</td>\n",
              "      <td>0.021631</td>\n",
              "      <td>0.995167</td>\n",
              "      <td>0.000010</td>\n",
              "    </tr>\n",
              "    <tr>\n",
              "      <th>38</th>\n",
              "      <td>0.049258</td>\n",
              "      <td>0.985259</td>\n",
              "      <td>0.021576</td>\n",
              "      <td>0.995167</td>\n",
              "      <td>0.000010</td>\n",
              "    </tr>\n",
              "    <tr>\n",
              "      <th>39</th>\n",
              "      <td>0.050622</td>\n",
              "      <td>0.985796</td>\n",
              "      <td>0.021529</td>\n",
              "      <td>0.995167</td>\n",
              "      <td>0.000010</td>\n",
              "    </tr>\n",
              "    <tr>\n",
              "      <th>40</th>\n",
              "      <td>0.049358</td>\n",
              "      <td>0.985685</td>\n",
              "      <td>0.021741</td>\n",
              "      <td>0.995000</td>\n",
              "      <td>0.000010</td>\n",
              "    </tr>\n",
              "    <tr>\n",
              "      <th>41</th>\n",
              "      <td>0.051136</td>\n",
              "      <td>0.984759</td>\n",
              "      <td>0.021619</td>\n",
              "      <td>0.995000</td>\n",
              "      <td>0.000010</td>\n",
              "    </tr>\n",
              "    <tr>\n",
              "      <th>42</th>\n",
              "      <td>0.048619</td>\n",
              "      <td>0.985667</td>\n",
              "      <td>0.021690</td>\n",
              "      <td>0.995167</td>\n",
              "      <td>0.000010</td>\n",
              "    </tr>\n",
              "    <tr>\n",
              "      <th>43</th>\n",
              "      <td>0.049653</td>\n",
              "      <td>0.985241</td>\n",
              "      <td>0.021591</td>\n",
              "      <td>0.995167</td>\n",
              "      <td>0.000010</td>\n",
              "    </tr>\n",
              "    <tr>\n",
              "      <th>44</th>\n",
              "      <td>0.050544</td>\n",
              "      <td>0.985556</td>\n",
              "      <td>0.021617</td>\n",
              "      <td>0.995333</td>\n",
              "      <td>0.000010</td>\n",
              "    </tr>\n",
              "    <tr>\n",
              "      <th>45</th>\n",
              "      <td>0.046338</td>\n",
              "      <td>0.986241</td>\n",
              "      <td>0.021842</td>\n",
              "      <td>0.995167</td>\n",
              "      <td>0.000010</td>\n",
              "    </tr>\n",
              "    <tr>\n",
              "      <th>46</th>\n",
              "      <td>0.050798</td>\n",
              "      <td>0.986130</td>\n",
              "      <td>0.021693</td>\n",
              "      <td>0.995333</td>\n",
              "      <td>0.000010</td>\n",
              "    </tr>\n",
              "    <tr>\n",
              "      <th>47</th>\n",
              "      <td>0.049820</td>\n",
              "      <td>0.985370</td>\n",
              "      <td>0.021716</td>\n",
              "      <td>0.995333</td>\n",
              "      <td>0.000010</td>\n",
              "    </tr>\n",
              "    <tr>\n",
              "      <th>48</th>\n",
              "      <td>0.048646</td>\n",
              "      <td>0.985963</td>\n",
              "      <td>0.021716</td>\n",
              "      <td>0.995500</td>\n",
              "      <td>0.000010</td>\n",
              "    </tr>\n",
              "    <tr>\n",
              "      <th>49</th>\n",
              "      <td>0.048687</td>\n",
              "      <td>0.986389</td>\n",
              "      <td>0.021755</td>\n",
              "      <td>0.995000</td>\n",
              "      <td>0.000010</td>\n",
              "    </tr>\n",
              "  </tbody>\n",
              "</table>\n",
              "</div>\n",
              "    <div class=\"colab-df-buttons\">\n",
              "\n",
              "  <div class=\"colab-df-container\">\n",
              "    <button class=\"colab-df-convert\" onclick=\"convertToInteractive('df-a343ea16-b6fe-47e8-8c8b-0e69ab25f062')\"\n",
              "            title=\"Convert this dataframe to an interactive table.\"\n",
              "            style=\"display:none;\">\n",
              "\n",
              "  <svg xmlns=\"http://www.w3.org/2000/svg\" height=\"24px\" viewBox=\"0 -960 960 960\">\n",
              "    <path d=\"M120-120v-720h720v720H120Zm60-500h600v-160H180v160Zm220 220h160v-160H400v160Zm0 220h160v-160H400v160ZM180-400h160v-160H180v160Zm440 0h160v-160H620v160ZM180-180h160v-160H180v160Zm440 0h160v-160H620v160Z\"/>\n",
              "  </svg>\n",
              "    </button>\n",
              "\n",
              "  <style>\n",
              "    .colab-df-container {\n",
              "      display:flex;\n",
              "      gap: 12px;\n",
              "    }\n",
              "\n",
              "    .colab-df-convert {\n",
              "      background-color: #E8F0FE;\n",
              "      border: none;\n",
              "      border-radius: 50%;\n",
              "      cursor: pointer;\n",
              "      display: none;\n",
              "      fill: #1967D2;\n",
              "      height: 32px;\n",
              "      padding: 0 0 0 0;\n",
              "      width: 32px;\n",
              "    }\n",
              "\n",
              "    .colab-df-convert:hover {\n",
              "      background-color: #E2EBFA;\n",
              "      box-shadow: 0px 1px 2px rgba(60, 64, 67, 0.3), 0px 1px 3px 1px rgba(60, 64, 67, 0.15);\n",
              "      fill: #174EA6;\n",
              "    }\n",
              "\n",
              "    .colab-df-buttons div {\n",
              "      margin-bottom: 4px;\n",
              "    }\n",
              "\n",
              "    [theme=dark] .colab-df-convert {\n",
              "      background-color: #3B4455;\n",
              "      fill: #D2E3FC;\n",
              "    }\n",
              "\n",
              "    [theme=dark] .colab-df-convert:hover {\n",
              "      background-color: #434B5C;\n",
              "      box-shadow: 0px 1px 3px 1px rgba(0, 0, 0, 0.15);\n",
              "      filter: drop-shadow(0px 1px 2px rgba(0, 0, 0, 0.3));\n",
              "      fill: #FFFFFF;\n",
              "    }\n",
              "  </style>\n",
              "\n",
              "    <script>\n",
              "      const buttonEl =\n",
              "        document.querySelector('#df-a343ea16-b6fe-47e8-8c8b-0e69ab25f062 button.colab-df-convert');\n",
              "      buttonEl.style.display =\n",
              "        google.colab.kernel.accessAllowed ? 'block' : 'none';\n",
              "\n",
              "      async function convertToInteractive(key) {\n",
              "        const element = document.querySelector('#df-a343ea16-b6fe-47e8-8c8b-0e69ab25f062');\n",
              "        const dataTable =\n",
              "          await google.colab.kernel.invokeFunction('convertToInteractive',\n",
              "                                                    [key], {});\n",
              "        if (!dataTable) return;\n",
              "\n",
              "        const docLinkHtml = 'Like what you see? Visit the ' +\n",
              "          '<a target=\"_blank\" href=https://colab.research.google.com/notebooks/data_table.ipynb>data table notebook</a>'\n",
              "          + ' to learn more about interactive tables.';\n",
              "        element.innerHTML = '';\n",
              "        dataTable['output_type'] = 'display_data';\n",
              "        await google.colab.output.renderOutput(dataTable, element);\n",
              "        const docLink = document.createElement('div');\n",
              "        docLink.innerHTML = docLinkHtml;\n",
              "        element.appendChild(docLink);\n",
              "      }\n",
              "    </script>\n",
              "  </div>\n",
              "\n",
              "\n",
              "<div id=\"df-53b10d24-fa8e-4b81-89fb-2f257bf77499\">\n",
              "  <button class=\"colab-df-quickchart\" onclick=\"quickchart('df-53b10d24-fa8e-4b81-89fb-2f257bf77499')\"\n",
              "            title=\"Suggest charts.\"\n",
              "            style=\"display:none;\">\n",
              "\n",
              "<svg xmlns=\"http://www.w3.org/2000/svg\" height=\"24px\"viewBox=\"0 0 24 24\"\n",
              "     width=\"24px\">\n",
              "    <g>\n",
              "        <path d=\"M19 3H5c-1.1 0-2 .9-2 2v14c0 1.1.9 2 2 2h14c1.1 0 2-.9 2-2V5c0-1.1-.9-2-2-2zM9 17H7v-7h2v7zm4 0h-2V7h2v10zm4 0h-2v-4h2v4z\"/>\n",
              "    </g>\n",
              "</svg>\n",
              "  </button>\n",
              "\n",
              "<style>\n",
              "  .colab-df-quickchart {\n",
              "      --bg-color: #E8F0FE;\n",
              "      --fill-color: #1967D2;\n",
              "      --hover-bg-color: #E2EBFA;\n",
              "      --hover-fill-color: #174EA6;\n",
              "      --disabled-fill-color: #AAA;\n",
              "      --disabled-bg-color: #DDD;\n",
              "  }\n",
              "\n",
              "  [theme=dark] .colab-df-quickchart {\n",
              "      --bg-color: #3B4455;\n",
              "      --fill-color: #D2E3FC;\n",
              "      --hover-bg-color: #434B5C;\n",
              "      --hover-fill-color: #FFFFFF;\n",
              "      --disabled-bg-color: #3B4455;\n",
              "      --disabled-fill-color: #666;\n",
              "  }\n",
              "\n",
              "  .colab-df-quickchart {\n",
              "    background-color: var(--bg-color);\n",
              "    border: none;\n",
              "    border-radius: 50%;\n",
              "    cursor: pointer;\n",
              "    display: none;\n",
              "    fill: var(--fill-color);\n",
              "    height: 32px;\n",
              "    padding: 0;\n",
              "    width: 32px;\n",
              "  }\n",
              "\n",
              "  .colab-df-quickchart:hover {\n",
              "    background-color: var(--hover-bg-color);\n",
              "    box-shadow: 0 1px 2px rgba(60, 64, 67, 0.3), 0 1px 3px 1px rgba(60, 64, 67, 0.15);\n",
              "    fill: var(--button-hover-fill-color);\n",
              "  }\n",
              "\n",
              "  .colab-df-quickchart-complete:disabled,\n",
              "  .colab-df-quickchart-complete:disabled:hover {\n",
              "    background-color: var(--disabled-bg-color);\n",
              "    fill: var(--disabled-fill-color);\n",
              "    box-shadow: none;\n",
              "  }\n",
              "\n",
              "  .colab-df-spinner {\n",
              "    border: 2px solid var(--fill-color);\n",
              "    border-color: transparent;\n",
              "    border-bottom-color: var(--fill-color);\n",
              "    animation:\n",
              "      spin 1s steps(1) infinite;\n",
              "  }\n",
              "\n",
              "  @keyframes spin {\n",
              "    0% {\n",
              "      border-color: transparent;\n",
              "      border-bottom-color: var(--fill-color);\n",
              "      border-left-color: var(--fill-color);\n",
              "    }\n",
              "    20% {\n",
              "      border-color: transparent;\n",
              "      border-left-color: var(--fill-color);\n",
              "      border-top-color: var(--fill-color);\n",
              "    }\n",
              "    30% {\n",
              "      border-color: transparent;\n",
              "      border-left-color: var(--fill-color);\n",
              "      border-top-color: var(--fill-color);\n",
              "      border-right-color: var(--fill-color);\n",
              "    }\n",
              "    40% {\n",
              "      border-color: transparent;\n",
              "      border-right-color: var(--fill-color);\n",
              "      border-top-color: var(--fill-color);\n",
              "    }\n",
              "    60% {\n",
              "      border-color: transparent;\n",
              "      border-right-color: var(--fill-color);\n",
              "    }\n",
              "    80% {\n",
              "      border-color: transparent;\n",
              "      border-right-color: var(--fill-color);\n",
              "      border-bottom-color: var(--fill-color);\n",
              "    }\n",
              "    90% {\n",
              "      border-color: transparent;\n",
              "      border-bottom-color: var(--fill-color);\n",
              "    }\n",
              "  }\n",
              "</style>\n",
              "\n",
              "  <script>\n",
              "    async function quickchart(key) {\n",
              "      const quickchartButtonEl =\n",
              "        document.querySelector('#' + key + ' button');\n",
              "      quickchartButtonEl.disabled = true;  // To prevent multiple clicks.\n",
              "      quickchartButtonEl.classList.add('colab-df-spinner');\n",
              "      try {\n",
              "        const charts = await google.colab.kernel.invokeFunction(\n",
              "            'suggestCharts', [key], {});\n",
              "      } catch (error) {\n",
              "        console.error('Error during call to suggestCharts:', error);\n",
              "      }\n",
              "      quickchartButtonEl.classList.remove('colab-df-spinner');\n",
              "      quickchartButtonEl.classList.add('colab-df-quickchart-complete');\n",
              "    }\n",
              "    (() => {\n",
              "      let quickchartButtonEl =\n",
              "        document.querySelector('#df-53b10d24-fa8e-4b81-89fb-2f257bf77499 button');\n",
              "      quickchartButtonEl.style.display =\n",
              "        google.colab.kernel.accessAllowed ? 'block' : 'none';\n",
              "    })();\n",
              "  </script>\n",
              "</div>\n",
              "    </div>\n",
              "  </div>\n"
            ]
          },
          "metadata": {},
          "execution_count": 23
        }
      ]
    },
    {
      "cell_type": "code",
      "source": [
        "max(history.history['val_accuracy'])"
      ],
      "metadata": {
        "colab": {
          "base_uri": "https://localhost:8080/"
        },
        "id": "KScOvXA1qQh0",
        "outputId": "7fe3b464-aff9-40d1-bfe3-b19b2af858a9"
      },
      "execution_count": null,
      "outputs": [
        {
          "output_type": "execute_result",
          "data": {
            "text/plain": [
              "0.9955000281333923"
            ]
          },
          "metadata": {},
          "execution_count": 24
        }
      ]
    },
    {
      "cell_type": "markdown",
      "source": [
        "# Визуализируем качество обучения"
      ],
      "metadata": {
        "id": "4AHawtenrnXT"
      }
    },
    {
      "cell_type": "code",
      "source": [
        "plt.plot(history.history['accuracy'],\n",
        "         label='Доля верных ответов на обучающем наборе')\n",
        "plt.plot(history.history['val_accuracy'],\n",
        "         label='Доля верных ответов на проверочном наборе')\n",
        "plt.xlabel('Эпоха обучения')\n",
        "plt.ylabel('Доля верных ответов')\n",
        "plt.legend()\n",
        "plt.show()"
      ],
      "metadata": {
        "colab": {
          "base_uri": "https://localhost:8080/",
          "height": 449
        },
        "id": "h7u2eNbYroXR",
        "outputId": "ce44bb86-c1e6-4064-d901-d2a8e855fc1e"
      },
      "execution_count": null,
      "outputs": [
        {
          "output_type": "display_data",
          "data": {
            "text/plain": [
              "<Figure size 640x480 with 1 Axes>"
            ],
            "image/png": "[encoded data removed]"
          },
          "metadata": {}
        }
      ]
    },
    {
      "cell_type": "markdown",
      "source": [
        "# Проверяем модель на тестовых данных"
      ],
      "metadata": {
        "id": "OW-h1Gejrz2S"
      }
    },
    {
      "cell_type": "code",
      "source": [
        "# предсказываем\n",
        "predictions = model.predict(X_test)"
      ],
      "metadata": {
        "colab": {
          "base_uri": "https://localhost:8080/"
        },
        "id": "HtPHXO2grqEK",
        "outputId": "c17c9e12-27ce-4c11-b02a-fd24249dcbf4"
      },
      "execution_count": null,
      "outputs": [
        {
          "output_type": "stream",
          "name": "stdout",
          "text": [
            "313/313 [==============================] - 1s 2ms/step\n"
          ]
        }
      ]
    },
    {
      "cell_type": "code",
      "source": [
        "# первые 3 примера из тестовой выбрки, где результаты - проценты принадлежности к каждому классу\n",
        "predictions[:3]"
      ],
      "metadata": {
        "colab": {
          "base_uri": "https://localhost:8080/"
        },
        "id": "vhi8ACYVsGMb",
        "outputId": "fe99b786-0c7e-48cd-cb4e-b8740f908f19"
      },
      "execution_count": null,
      "outputs": [
        {
          "output_type": "execute_result",
          "data": {
            "text/plain": [
              "array([[2.1487062e-15, 1.3434047e-09, 4.3784687e-09, 2.1002143e-10,\n",
              "        7.6721637e-13, 1.3724867e-14, 1.8074668e-23, 1.0000000e+00,\n",
              "        1.5137730e-13, 4.7407389e-10],\n",
              "       [4.1103831e-09, 4.5134039e-11, 1.0000000e+00, 3.7560337e-09,\n",
              "        8.3627671e-14, 4.2526112e-14, 6.1720984e-13, 2.8006597e-09,\n",
              "        1.2870029e-10, 1.3009218e-11],\n",
              "       [6.8711239e-12, 1.0000000e+00, 7.1933921e-09, 4.0748400e-14,\n",
              "        1.3620302e-09, 1.3950766e-10, 3.9856015e-08, 5.4227987e-09,\n",
              "        2.7258457e-08, 1.1562277e-11]], dtype=float32)"
            ]
          },
          "metadata": {},
          "execution_count": 27
        }
      ]
    },
    {
      "cell_type": "code",
      "source": [
        "# преобразуем результаты распознавания из формата one hot encoding в цифры\n",
        "predictions = np.argmax(predictions, axis=1)"
      ],
      "metadata": {
        "id": "ZCIA6aC-r6om"
      },
      "execution_count": null,
      "outputs": []
    },
    {
      "cell_type": "code",
      "source": [
        "predictions[:3]"
      ],
      "metadata": {
        "colab": {
          "base_uri": "https://localhost:8080/"
        },
        "id": "9K_asK06r_aL",
        "outputId": "182ac5b7-b87e-4539-ed08-5544d2b0db0e"
      },
      "execution_count": null,
      "outputs": [
        {
          "output_type": "execute_result",
          "data": {
            "text/plain": [
              "array([7, 2, 1])"
            ]
          },
          "metadata": {},
          "execution_count": 29
        }
      ]
    },
    {
      "cell_type": "code",
      "source": [
        "n = 1234 # номре экземпляра X_test выборки\n",
        "\n",
        "# рисуем картинку\n",
        "plt.imshow(X_test[n].reshape(28, 28, 1), cmap = 'gray')\n",
        "plt.show()\n",
        "\n",
        "# ответ который предсказала модель\n",
        "print(f'Ответ модели: {predictions[n]}') #"
      ],
      "metadata": {
        "colab": {
          "base_uri": "https://localhost:8080/",
          "height": 448
        },
        "id": "tFQvBUigsCFk",
        "outputId": "4bfb894d-f73f-448e-daae-a9a6e4ba660b"
      },
      "execution_count": null,
      "outputs": [
        {
          "output_type": "display_data",
          "data": {
            "text/plain": [
              "<Figure size 640x480 with 1 Axes>"
            ],
            "image/png": "[encoded data removed]"
          },
          "metadata": {}
        },
        {
          "output_type": "stream",
          "name": "stdout",
          "text": [
            "Ответ модели: 8\n"
          ]
        }
      ]
    }
  ]
}